{
 "cells": [
  {
   "cell_type": "markdown",
   "metadata": {},
   "source": [
    "# ¿Tierra en peligro?"
   ]
  },
  {
   "cell_type": "code",
   "execution_count": 27,
   "metadata": {},
   "outputs": [
    {
     "name": "stdout",
     "output_type": "stream",
     "text": [
      "Peligro en la tierra, asteroide en camino D:\n"
     ]
    }
   ],
   "source": [
    "asteroide = 49\n",
    "if asteroide > 25:\n",
    "    print(\"Peligro en la tierra, asteroide en camino D:\") #es mayor a 25\n",
    "else:\n",
    "    print(\"Sin peligro, sigue en lo tuyo :D\") #es menor a 25\n"
   ]
  },
  {
   "cell_type": "markdown",
   "metadata": {},
   "source": [
    "# ¿Tierra en peligro? II \n",
    "El regresar del asteriode"
   ]
  },
  {
   "cell_type": "code",
   "execution_count": 28,
   "metadata": {},
   "outputs": [
    {
     "name": "stdout",
     "output_type": "stream",
     "text": [
      "Todo bien, todo correocto... y yo que me alegro\n"
     ]
    }
   ],
   "source": [
    "NuevoAsteroide = 19\n",
    "if NuevoAsteroide >= 20:\n",
    "    print(\"¡Estrella fugaz, pide un deseo!\")\n",
    "else:\n",
    "    print(\"Todo bien, todo correocto... y yo que me alegro\") #es menor a 25\n"
   ]
  },
  {
   "cell_type": "markdown",
   "metadata": {},
   "source": [
    "# ¿Tierra en peligro? III \n",
    "Más fuertes que nunca"
   ]
  },
  {
   "cell_type": "code",
   "execution_count": 29,
   "metadata": {},
   "outputs": [
    {
     "name": "stdout",
     "output_type": "stream",
     "text": [
      "Situacion de alerta, posible asteriode impactará la tierra :c\n",
      "¡Estrella fugaz, pide un deseo!\n",
      "La tierra sufrirá muchos daños :c\n"
     ]
    }
   ],
   "source": [
    "VelAster = 30 #Velocidad de asteriode\n",
    "TamAster = 80 #Tamaño del asteriode\n",
    "if VelAster >= 20 or TamAster >= 25:\n",
    "    print (\"Situacion de alerta, posible asteriode impactará la tierra :c\")\n",
    "    if VelAster >= 20:\n",
    "        print(\"¡Estrella fugaz, pide un deseo!\")\n",
    "    if TamAster > 25 and TamAster <= 100:\n",
    "        print(\"La tierra sufrirá muchos daños :c\")\n",
    "    elif TamAster > 100 and VelAster > 25:\n",
    "        print(\"Ya ni corras, moriremos :c\")\n",
    "else:\n",
    "    print(\"Todo bien, nada de que preocuparse\")"
   ]
  }
 ],
 "metadata": {
  "interpreter": {
   "hash": "e6fad8134df9e5d8b8d6d65c861d5f535ad48201ee3e73e4438a263582efefbc"
  },
  "kernelspec": {
   "display_name": "Python 3.10.0 64-bit",
   "language": "python",
   "name": "python3"
  },
  "language_info": {
   "codemirror_mode": {
    "name": "ipython",
    "version": 3
   },
   "file_extension": ".py",
   "mimetype": "text/x-python",
   "name": "python",
   "nbconvert_exporter": "python",
   "pygments_lexer": "ipython3",
   "version": "3.10.0"
  },
  "orig_nbformat": 4
 },
 "nbformat": 4,
 "nbformat_minor": 2
}
