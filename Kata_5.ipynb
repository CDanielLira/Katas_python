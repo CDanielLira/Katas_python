{
 "cells": [
  {
   "cell_type": "markdown",
   "metadata": {},
   "source": [
    "# Kata 5 -- Uso de matematicas\n",
    "Uso de operaciones basicas"
   ]
  },
  {
   "cell_type": "code",
   "execution_count": 11,
   "metadata": {},
   "outputs": [],
   "source": [
    "tierra = 149697870\n",
    "jupiter = 778547200"
   ]
  },
  {
   "cell_type": "markdown",
   "metadata": {},
   "source": [
    "# Distancia entre planetas en Km y millas"
   ]
  },
  {
   "cell_type": "code",
   "execution_count": 17,
   "metadata": {},
   "outputs": [
    {
     "name": "stdout",
     "output_type": "stream",
     "text": [
      "628849330\n",
      "390515434\n"
     ]
    }
   ],
   "source": [
    "distanciami = (tierra - jupiter) * 0.621\n",
    "distanciakm = tierra -jupiter\n",
    "print(abs(distanciakm))\n",
    "print(round(abs(distanciami)))"
   ]
  },
  {
   "cell_type": "markdown",
   "metadata": {},
   "source": [
    "# Ejercicio 2 - Cadenas a números y valores absolutos"
   ]
  },
  {
   "cell_type": "code",
   "execution_count": 26,
   "metadata": {},
   "outputs": [
    {
     "ename": "ValueError",
     "evalue": "invalid literal for int() with base 10: ''",
     "output_type": "error",
     "traceback": [
      "\u001b[1;31m---------------------------------------------------------------------------\u001b[0m",
      "\u001b[1;31mValueError\u001b[0m                                Traceback (most recent call last)",
      "\u001b[1;32mc:\\Users\\Daniel\\OneDrive - Universidad Autónoma de Aguascalientes\\Documentos\\Lanuch X\\Kata_5.ipynb Cell 6'\u001b[0m in \u001b[0;36m<module>\u001b[1;34m\u001b[0m\n\u001b[1;32m----> <a href='vscode-notebook-cell:/c%3A/Users/Daniel/OneDrive%20-%20Universidad%20Aut%C3%B3noma%20de%20Aguascalientes/Documentos/Lanuch%20X/Kata_5.ipynb#ch0000005?line=0'>1</a>\u001b[0m planeta1 \u001b[39m=\u001b[39m \u001b[39mint\u001b[39;49m(\u001b[39minput\u001b[39;49m(\u001b[39m\"\u001b[39;49m\u001b[39mDistancia de planeta 1\u001b[39;49m\u001b[39m\"\u001b[39;49m))\n\u001b[0;32m      <a href='vscode-notebook-cell:/c%3A/Users/Daniel/OneDrive%20-%20Universidad%20Aut%C3%B3noma%20de%20Aguascalientes/Documentos/Lanuch%20X/Kata_5.ipynb#ch0000005?line=1'>2</a>\u001b[0m planeta2 \u001b[39m=\u001b[39m \u001b[39mint\u001b[39m(\u001b[39minput\u001b[39m(\u001b[39m'\u001b[39m\u001b[39mDistancia de planeta 2\u001b[39m\u001b[39m'\u001b[39m))\n\u001b[0;32m      <a href='vscode-notebook-cell:/c%3A/Users/Daniel/OneDrive%20-%20Universidad%20Aut%C3%B3noma%20de%20Aguascalientes/Documentos/Lanuch%20X/Kata_5.ipynb#ch0000005?line=2'>3</a>\u001b[0m resultado \u001b[39m=\u001b[39m \u001b[39mabs\u001b[39m(planeta1 \u001b[39m-\u001b[39m planeta2)\n",
      "\u001b[1;31mValueError\u001b[0m: invalid literal for int() with base 10: ''"
     ]
    }
   ],
   "source": [
    "planeta1 = int(input(\"Distancia de planeta 1\"))\n",
    "planeta2 = int(input('Distancia de planeta 2'))\n",
    "resultado = abs(planeta1 - planeta2)\n",
    "print(resultado)"
   ]
  }
 ],
 "metadata": {
  "interpreter": {
   "hash": "e6fad8134df9e5d8b8d6d65c861d5f535ad48201ee3e73e4438a263582efefbc"
  },
  "kernelspec": {
   "display_name": "Python 3.10.0 64-bit",
   "language": "python",
   "name": "python3"
  },
  "language_info": {
   "codemirror_mode": {
    "name": "ipython",
    "version": 3
   },
   "file_extension": ".py",
   "mimetype": "text/x-python",
   "name": "python",
   "nbconvert_exporter": "python",
   "pygments_lexer": "ipython3",
   "version": "3.10.0"
  },
  "orig_nbformat": 4
 },
 "nbformat": 4,
 "nbformat_minor": 2
}
